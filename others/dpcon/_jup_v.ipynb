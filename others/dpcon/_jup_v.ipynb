{
 "cells": [
  {
   "cell_type": "code",
   "execution_count": 1,
   "metadata": {},
   "outputs": [],
   "source": [
    "import sys\n",
    "import os\n",
    "f = open('../../input.txt', 'r')\n",
    "sys.stdin = f"
   ]
  },
  {
   "cell_type": "code",
   "execution_count": 2,
   "metadata": {},
   "outputs": [],
   "source": [
    "import sys\n",
    "read = sys.stdin.buffer.read\n",
    "readline = sys.stdin.buffer.readline\n",
    "readlines = sys.stdin.buffer.readlines\n",
    "\n",
    "import itertools"
   ]
  },
  {
   "cell_type": "code",
   "execution_count": 3,
   "metadata": {},
   "outputs": [],
   "source": [
    "N,MOD = map(int,readline().split())\n",
    "m = map(int,read().split())\n",
    "XY = zip(m,m)"
   ]
  },
  {
   "cell_type": "code",
   "execution_count": 4,
   "metadata": {},
   "outputs": [],
   "source": [
    "mult = lambda x,y: x*y #%MOD\n",
    "\n",
    "graph = [[] for _ in range(N+1)]\n",
    "for x,y in XY:\n",
    "    graph[x].append(y)\n",
    "    graph[y].append(x)"
   ]
  },
  {
   "cell_type": "code",
   "execution_count": 5,
   "metadata": {},
   "outputs": [],
   "source": [
    "root = 1\n",
    "parent = [0] * (N+1)\n",
    "order = []\n",
    "stack = [root]"
   ]
  },
  {
   "cell_type": "code",
   "execution_count": 6,
   "metadata": {},
   "outputs": [],
   "source": [
    "while stack:\n",
    "    x = stack.pop()\n",
    "    order.append(x)\n",
    "    for y in graph[x]:\n",
    "        if y == parent[x]:\n",
    "            continue\n",
    "        parent[y] = x\n",
    "        stack.append(y)"
   ]
  },
  {
   "cell_type": "code",
   "execution_count": 7,
   "metadata": {},
   "outputs": [
    {
     "data": {
      "text/plain": [
       "[1, 7, 5, 6, 3, 8, 4, 10, 2, 9]"
      ]
     },
     "execution_count": 7,
     "metadata": {},
     "output_type": "execute_result"
    }
   ],
   "source": [
    "order"
   ]
  },
  {
   "cell_type": "code",
   "execution_count": 8,
   "metadata": {},
   "outputs": [],
   "source": [
    "# 自身を黒く塗ったときの根側\n",
    "dp1 = [0]*(N+1)\n",
    "\n",
    "for v in order[::-1]:\n",
    "    x = 1\n",
    "    for w in graph[v]:\n",
    "        x *= dp1[w]+1\n",
    "#         x %= MOD\n",
    "    dp1[v] = x"
   ]
  },
  {
   "cell_type": "code",
   "execution_count": 9,
   "metadata": {},
   "outputs": [
    {
     "data": {
      "text/plain": [
       "[0, 56, 2, 1, 1, 27, 2, 1, 8, 1, 3]"
      ]
     },
     "execution_count": 9,
     "metadata": {},
     "output_type": "execute_result"
    }
   ],
   "source": [
    "dp1"
   ]
  },
  {
   "cell_type": "code",
   "execution_count": 10,
   "metadata": {},
   "outputs": [],
   "source": [
    "# 親側\n",
    "dp2 = [1]*(N+1)\n",
    "\n",
    "for v in order[:3]:\n",
    "    p = parent[v]\n",
    "    arr = [dp1[c]+1 if c != p else dp2[v] for c in graph[v]]\n",
    "    # 1元を除く積を取得\n",
    "    from_left = [1] + list(itertools.accumulate(arr,mult))[:-1]\n",
    "    from_right = list(itertools.accumulate(reversed(arr),mult))[-2::-1] + [1]\n",
    "    prod = [x*y for x,y in zip(from_left,from_right)]\n",
    "    for c,x in zip(graph[v],prod):\n",
    "        if c != p:\n",
    "            dp2[c] = 1+x"
   ]
  },
  {
   "cell_type": "code",
   "execution_count": 14,
   "metadata": {},
   "outputs": [
    {
     "data": {
      "text/plain": [
       "[9, 27, 27]"
      ]
     },
     "execution_count": 14,
     "metadata": {},
     "output_type": "execute_result"
    }
   ],
   "source": [
    "prod"
   ]
  },
  {
   "cell_type": "code",
   "execution_count": 31,
   "metadata": {},
   "outputs": [
    {
     "data": {
      "text/plain": [
       "[9, 1, 1]"
      ]
     },
     "execution_count": 31,
     "metadata": {},
     "output_type": "execute_result"
    }
   ],
   "source": [
    "list(itertools.accumulate(arr,mult))"
   ]
  },
  {
   "cell_type": "code",
   "execution_count": null,
   "metadata": {},
   "outputs": [],
   "source": [
    "\n",
    "# 親側\n",
    "dp2 = [1]*(N+1)\n",
    "\n",
    "for v in order:\n",
    "    p = parent[v]\n",
    "    arr = [dp1[c]+1 if c != p else dp2[v] for c in graph[v]]\n",
    "    # 1元を除く積を取得\n",
    "    from_left = [1] + list(itertools.accumulate(arr,mult))[:-1]\n",
    "    from_right = list(itertools.accumulate(reversed(arr),mult))[-2::-1] + [1]\n",
    "    prod = [x*y%MOD for x,y in zip(from_left,from_right)]\n",
    "    for c,x in zip(graph[v],prod):\n",
    "        if c != p:\n",
    "            dp2[c] = 1+x\n",
    "\n",
    "answer = '\\n'.join(str(x*y%MOD) for x,y in zip(dp1[1:],dp2[1:]))\n",
    "print(answer)\n"
   ]
  },
  {
   "cell_type": "code",
   "execution_count": null,
   "metadata": {},
   "outputs": [],
   "source": []
  },
  {
   "cell_type": "code",
   "execution_count": null,
   "metadata": {},
   "outputs": [],
   "source": []
  },
  {
   "cell_type": "code",
   "execution_count": 15,
   "metadata": {},
   "outputs": [
    {
     "data": {
      "text/plain": [
       "[[], [], [], [], []]"
      ]
     },
     "execution_count": 15,
     "metadata": {},
     "output_type": "execute_result"
    }
   ],
   "source": [
    "[[] for _ in range(5)]"
   ]
  },
  {
   "cell_type": "code",
   "execution_count": 17,
   "metadata": {},
   "outputs": [],
   "source": [
    "hoge = [1,2,3,4,5]"
   ]
  },
  {
   "cell_type": "code",
   "execution_count": 18,
   "metadata": {},
   "outputs": [
    {
     "data": {
      "text/plain": [
       "[4, 3, 2, 1]"
      ]
     },
     "execution_count": 18,
     "metadata": {},
     "output_type": "execute_result"
    }
   ],
   "source": [
    "hoge[-2::-1]"
   ]
  },
  {
   "cell_type": "code",
   "execution_count": null,
   "metadata": {},
   "outputs": [],
   "source": []
  }
 ],
 "metadata": {
  "kernelspec": {
   "display_name": "Python 3",
   "language": "python",
   "name": "python3"
  },
  "language_info": {
   "codemirror_mode": {
    "name": "ipython",
    "version": 3
   },
   "file_extension": ".py",
   "mimetype": "text/x-python",
   "name": "python",
   "nbconvert_exporter": "python",
   "pygments_lexer": "ipython3",
   "version": "3.6.5"
  }
 },
 "nbformat": 4,
 "nbformat_minor": 2
}
